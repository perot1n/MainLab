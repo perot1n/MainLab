{
 "cells": [
  {
   "cell_type": "code",
   "execution_count": 4,
   "metadata": {},
   "outputs": [
    {
     "name": "stdout",
     "output_type": "stream",
     "text": [
      "Непарне число\n"
     ]
    }
   ],
   "source": [
    "def check_number(num):\n",
    "    if isinstance(num, (int, float)):\n",
    "        if num % 2 == 0:\n",
    "            print( \"Парне число\")\n",
    "        else:\n",
    "            print (\"Непарне число\")\n",
    "    else:\n",
    "        print (\"\")\n",
    "\n",
    "\n",
    "\n",
    "check_number(5)"
   ]
  },
  {
   "cell_type": "code",
   "execution_count": 5,
   "metadata": {},
   "outputs": [
    {
     "name": "stdout",
     "output_type": "stream",
     "text": [
      "28\n"
     ]
    }
   ],
   "source": [
    "def sum_first_five_primes():\n",
    "    primes = []\n",
    "    num = 2\n",
    "    while len(primes) < 5:\n",
    "        is_prime = True\n",
    "        for i in range(2, num):\n",
    "            if num % i == 0:\n",
    "                is_prime = False\n",
    "                break\n",
    "        if is_prime:\n",
    "            primes.append(num)\n",
    "        num += 1\n",
    "    print (sum(primes))\n",
    "\n",
    "sum_first_five_primes()"
   ]
  },
  {
   "cell_type": "code",
   "execution_count": 2,
   "metadata": {},
   "outputs": [
    {
     "name": "stdout",
     "output_type": "stream",
     "text": [
      "12345\n"
     ]
    }
   ],
   "source": [
    "def sum_of_series(n):\n",
    "    total = 0\n",
    "    for i in range(1, n + 1):\n",
    "        number = int('1' * i)\n",
    "        total += number\n",
    "    print( total)\n",
    "\n",
    "sum_of_series(5)"
   ]
  }
 ],
 "metadata": {
  "kernelspec": {
   "display_name": "Python 3.9.7 64-bit",
   "language": "python",
   "name": "python3"
  },
  "language_info": {
   "codemirror_mode": {
    "name": "ipython",
    "version": 3
   },
   "file_extension": ".py",
   "mimetype": "text/x-python",
   "name": "python",
   "nbconvert_exporter": "python",
   "pygments_lexer": "ipython3",
   "version": "3.9.7"
  },
  "orig_nbformat": 4,
  "vscode": {
   "interpreter": {
    "hash": "f168e493192cf62379bab96cddc2d1581e0e78601d92e03f37a37d0e0c9161e7"
   }
  }
 },
 "nbformat": 4,
 "nbformat_minor": 2
}
